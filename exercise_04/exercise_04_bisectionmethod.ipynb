{
 "cells": [
  {
   "cell_type": "markdown",
   "id": "b291024a-290e-4ca7-b280-af7913fa46c5",
   "metadata": {},
   "source": [
    "# TMA4135/TMA4130 Matematikk 4D/4N\n",
    "\n",
    "Høst 2023\n",
    "\n",
    "## Exercise 4: Bisection method\n",
    "\n",
    "Consider the function\n",
    "\\begin{align}\n",
    "f(x)=(1-3^x)x^2+4(x-1)3^x+4(1-x),\n",
    "\\end{align}\n",
    "we want to find all roots of $f(x)$ on the interval $[-2,3]$.\n",
    "\n",
    "These are the helping functions for\n",
    "\n",
    "c) Use python to find the roots of $f(x)$ with an error smaller than $10^{-3}$.\n"
   ]
  },
  {
   "cell_type": "code",
   "execution_count": null,
   "id": "6433fba8",
   "metadata": {},
   "outputs": [],
   "source": [
    "from collections.abc import Callable\n",
    "\n",
    "import numpy as np"
   ]
  },
  {
   "cell_type": "markdown",
   "id": "de9bf6fc-5b63-4401-8613-13bd8b7ac495",
   "metadata": {},
   "source": [
    "You can use the code from the notes:\n"
   ]
  },
  {
   "cell_type": "code",
   "execution_count": 1,
   "id": "c7034036-2330-4d06-826f-ce938c7d1a51",
   "metadata": {},
   "outputs": [],
   "source": [
    "def bisection(\n",
    "    f: Callable[[float | np.ndarray], float | np.ndarray],\n",
    "    a: float,\n",
    "    b: float,\n",
    "    *,\n",
    "    tol: float = 1e-6,\n",
    "    max_iter: int = 100,\n",
    "    verbose: bool = True,\n",
    ") -> tuple[float | np.ndarray, int]:\n",
    "    \"\"\"bisection(f, a, b, tol=1e-6, maxiter=100)\n",
    "\n",
    "    Solve the scalar equation f(x) = 0 by bisection.\n",
    "\n",
    "    Input:\n",
    "        f    - the function\n",
    "        a, b - the interval\n",
    "    Optional (keyword arguments)\n",
    "        tol      - (`1.0e-6`) a tolerance when to stop due to a small\n",
    "                   interval\n",
    "        max_iter - (`100`) a maximal number of iterations\n",
    "        verbose  - (`True`) activates printing if set to true\n",
    "    Output:\n",
    "        r, k - the found root and the number of iterations needed\n",
    "               to get to this point\n",
    "    \"\"\"\n",
    "    fa = f(a)\n",
    "    fb = f(b)\n",
    "\n",
    "    if max_iter <= 0:\n",
    "        raise ValueError(\"Max iterations must be greater than zero.\")\n",
    "    if fa * fb > 0:\n",
    "        raise ValueError(\n",
    "            \"f(a) * f(b) > 0, there may be no root in the interval.\"\n",
    "        )\n",
    "\n",
    "    for k in range(max_iter):\n",
    "        c = (a + b) / 2\n",
    "        fc = f(c)\n",
    "\n",
    "        if verbose:\n",
    "            print(\n",
    "                f\"k={k:3d}, a={a:.6f}, b={b:.6f}, c={c:10.6f}, f(c)={fc:10.3e}\"\n",
    "            )\n",
    "\n",
    "        if abs(fc) < tol:\n",
    "            break\n",
    "        if b - a < 2 * tol:\n",
    "            break\n",
    "\n",
    "        if fa * fc < 0:\n",
    "            b = c\n",
    "            # fb = f(b)\n",
    "        else:\n",
    "            a = c\n",
    "            # fa = f(a)\n",
    "\n",
    "    return c, k"
   ]
  },
  {
   "cell_type": "markdown",
   "id": "78ecf9d7",
   "metadata": {},
   "source": [
    "Solution: Define the function f(x)\n"
   ]
  },
  {
   "cell_type": "code",
   "execution_count": 2,
   "id": "4d4f3238-bd31-42e3-9d65-628c3213b08e",
   "metadata": {},
   "outputs": [
    {
     "name": "stdout",
     "output_type": "stream",
     "text": [
      "k=  0, a=-2.000000, b=3.000000, c=  0.500000, f(c)=-1.647e+00\n",
      "k=  1, a=-2.000000, b=0.500000, c= -0.750000, f(c)= 4.245e+00\n",
      "k=  2, a=-0.750000, b=0.500000, c= -0.125000, f(c)= 5.794e-01\n",
      "k=  3, a=-0.125000, b=0.500000, c=  0.187500, f(c)=-7.514e-01\n",
      "k=  4, a=-0.125000, b=0.187500, c=  0.031250, f(c)=-1.354e-01\n",
      "k=  5, a=-0.125000, b=0.031250, c= -0.046875, f(c)= 2.103e-01\n",
      "k=  6, a=-0.046875, b=0.031250, c= -0.007812, f(c)= 3.445e-02\n",
      "k=  7, a=-0.007812, b=0.031250, c=  0.011719, f(c)=-5.122e-02\n",
      "k=  8, a=-0.007812, b=0.011719, c=  0.001953, f(c)=-8.575e-03\n",
      "k=  9, a=-0.007812, b=0.001953, c= -0.002930, f(c)= 1.289e-02\n",
      "k= 10, a=-0.002930, b=0.001953, c= -0.000488, f(c)= 2.146e-03\n",
      "k= 11, a=-0.000488, b=0.001953, c=  0.000732, f(c)=-3.218e-03\n",
      "k= 12, a=-0.000488, b=0.000732, c=  0.000122, f(c)=-5.364e-04\n"
     ]
    }
   ],
   "source": [
    "def f(x: float | np.ndarray) -> float | np.ndarray:\n",
    "    return (1 - 3**x) * x**2 + 4 * (x - 1) * 3**x + 4 * (1 - x)\n",
    "\n",
    "\n",
    "a, b = -2, 3\n",
    "c, nit = bisection(f, a, b, tol=1e-3, max_iter=13)"
   ]
  },
  {
   "cell_type": "code",
   "execution_count": 3,
   "id": "bf3b7509-eacb-461d-a30a-39438ec8406a",
   "metadata": {},
   "outputs": [
    {
     "data": {
      "image/png": "[encoded data removed]",
      "text/plain": [
       "<Figure size 640x480 with 1 Axes>"
      ]
     },
     "metadata": {},
     "output_type": "display_data"
    }
   ],
   "source": [
    "# plotting and saving of the function\n",
    "import matplotlib.pyplot as plt\n",
    "\n",
    "\n",
    "x = np.linspace(a, b, 1000)\n",
    "fx = f(x)\n",
    "plt.plot(x, fx, label=\"f(x)\")\n",
    "plt.plot((0, 2), (0, 0), \"o\")\n",
    "plt.title(\"Bisection method\", fontweight=1000)\n",
    "plt.xlabel(\"x\", fontweight=750)\n",
    "plt.ylabel(\"y\", rotation=0, fontweight=750)\n",
    "plt.grid()\n",
    "plt.legend()\n",
    "plt.show()\n",
    "# plt.savefig(\"BisectionMethod-problem1\", dpi = 200)"
   ]
  }
 ],
 "metadata": {
  "kernelspec": {
   "display_name": "Python 3 (ipykernel)",
   "language": "python",
   "name": "python3"
  },
  "language_info": {
   "codemirror_mode": {
    "name": "ipython",
    "version": 3
   },
   "file_extension": ".py",
   "mimetype": "text/x-python",
   "name": "python",
   "nbconvert_exporter": "python",
   "pygments_lexer": "ipython3",
   "version": "3.11.4"
  }
 },
 "nbformat": 4,
 "nbformat_minor": 5
}
