{
 "cells": [
  {
   "cell_type": "code",
   "execution_count": 8,
   "metadata": {},
   "outputs": [],
   "source": [
    "# Importing the necessary libraries\n",
    "import numpy as np\n",
    "from collections.abc import Callable"
   ]
  },
  {
   "cell_type": "code",
   "execution_count": 9,
   "metadata": {},
   "outputs": [],
   "source": [
    "# Defining the interval boundaries and the function to integrate\n",
    "a = 0.0\n",
    "b = 1.0\n",
    "\n",
    "\n",
    "def f(x: np.ndarray) -> np.ndarray:\n",
    "    return np.exp(-x)"
   ]
  },
  {
   "cell_type": "code",
   "execution_count": 10,
   "metadata": {},
   "outputs": [
    {
     "name": "stdout",
     "output_type": "stream",
     "text": [
      "[2 4 6 8]\n"
     ]
    }
   ],
   "source": [
    "# Defining an array with the number of intervals\n",
    "ms = np.arange(2, 10, 2)\n",
    "print(ms)"
   ]
  },
  {
   "cell_type": "code",
   "execution_count": 11,
   "metadata": {},
   "outputs": [],
   "source": [
    "def composite_simpson(\n",
    "    f: Callable[[np.ndarray], np.ndarray], a: float, b: float, m: int\n",
    ") -> float:\n",
    "    \"\"\"Definition of the Simpson integrating function.\n",
    "    Inputs:\n",
    "     f: function to integrate\n",
    "     a: interval start\n",
    "     b: interval end\n",
    "     m: number of subintervals\n",
    "    Outputs:\n",
    "     float: value of the integral\n",
    "    \"\"\"\n",
    "    if m % 2 or m <= 0:\n",
    "        raise ValueError(\"m must be a positive even number.\")\n",
    "\n",
    "    intervals = np.linspace(a, b, m + 1)\n",
    "    integral = 0.0\n",
    "\n",
    "    for i, elem in enumerate(intervals[:-1]):\n",
    "        next_elem = intervals[i + 1]\n",
    "        integral += (\n",
    "            (next_elem - elem)\n",
    "            * (f(elem) + 4 * f((elem + next_elem) / 2) + f(next_elem))\n",
    "            / 6\n",
    "        )\n",
    "\n",
    "    return integral"
   ]
  },
  {
   "cell_type": "code",
   "execution_count": 12,
   "metadata": {},
   "outputs": [
    {
     "name": "stdout",
     "output_type": "stream",
     "text": [
      "0.6321205588285577\n"
     ]
    }
   ],
   "source": [
    "# Exact integral value\n",
    "I_exact = 1 - np.exp(-1)\n",
    "print(I_exact)"
   ]
  },
  {
   "cell_type": "code",
   "execution_count": 13,
   "metadata": {},
   "outputs": [
    {
     "name": "stdout",
     "output_type": "stream",
     "text": [
      "Subintervals: [2 4 6 8]\n",
      "Errors: [1.361649197462178e-05, 8.557761845828793e-07, 1.6921680845438658e-07, 5.3560615054237815e-08]\n"
     ]
    }
   ],
   "source": [
    "# Array of errors\n",
    "errs = [abs(I_exact - composite_simpson(f, a, b, m)) for m in ms]\n",
    "print(f\"Subintervals: {ms}\")\n",
    "print(f\"Errors: {errs}\")"
   ]
  },
  {
   "cell_type": "code",
   "execution_count": 14,
   "metadata": {},
   "outputs": [
    {
     "name": "stdout",
     "output_type": "stream",
     "text": [
      "[3.9919777278423165, 3.997453936103171, 3.9987433661117593]\n"
     ]
    }
   ],
   "source": [
    "# Estimated convergence order (should be 4 for Simpson's rule)\n",
    "approxp = [\n",
    "    np.log(errs[i + 1] / errs[i]) / np.log(ms[i] / ms[i + 1])\n",
    "    for i in range(ms.size - 1)\n",
    "]\n",
    "print(approxp)"
   ]
  }
 ],
 "metadata": {
  "kernelspec": {
   "display_name": "Python 3",
   "language": "python",
   "name": "python3"
  },
  "language_info": {
   "codemirror_mode": {
    "name": "ipython",
    "version": 3
   },
   "file_extension": ".py",
   "mimetype": "text/x-python",
   "name": "python",
   "nbconvert_exporter": "python",
   "pygments_lexer": "ipython3",
   "version": "3.11.4"
  },
  "vscode": {
   "interpreter": {
    "hash": "5c7b89af1651d0b8571dde13640ecdccf7d5a6204171d6ab33e7c296e100e08a"
   }
  }
 },
 "nbformat": 4,
 "nbformat_minor": 2
}
